{
 "cells": [
  {
   "cell_type": "code",
   "execution_count": 10,
   "id": "e988f0dc-0593-483f-9669-7dfcfc45790d",
   "metadata": {},
   "outputs": [],
   "source": [
    "# Q-1 # Write a Python program to check if a given number is positive or negative."
   ]
  },
  {
   "cell_type": "code",
   "execution_count": 3,
   "id": "6e779ebf-2d6e-4514-a5ad-968df9be2754",
   "metadata": {},
   "outputs": [
    {
     "name": "stdin",
     "output_type": "stream",
     "text": [
      "Enter a number:  52\n"
     ]
    },
    {
     "name": "stdout",
     "output_type": "stream",
     "text": [
      "The number is positive.\n"
     ]
    }
   ],
   "source": [
    "number = float(input(\"Enter a number: \"))\n",
    "\n",
    "# Check if the number is positive, negative, or zero\n",
    "if number > 0:\n",
    "    print(\"The number is positive.\")\n",
    "elif number < 0:\n",
    "    print(\"The number is negative.\")\n",
    "else:\n",
    "    print(\"The number is zero.\")"
   ]
  },
  {
   "cell_type": "code",
   "execution_count": null,
   "id": "58643879-a664-49ec-95a6-d71ade825a2d",
   "metadata": {},
   "outputs": [],
   "source": [
    "Q -2 # Create a program to check if a person is a teenager (between 13 and 19 years old)."
   ]
  },
  {
   "cell_type": "code",
   "execution_count": 2,
   "id": "b5b85f6a-4243-4e2e-b2bf-d598fb6d345d",
   "metadata": {},
   "outputs": [
    {
     "name": "stdin",
     "output_type": "stream",
     "text": [
      "Enter your age:  55\n"
     ]
    },
    {
     "name": "stdout",
     "output_type": "stream",
     "text": [
      "You are not a teenager.\n"
     ]
    }
   ],
   "source": [
    "# Get the age as input from the user\n",
    "age = int(input(\"Enter your age: \"))\n",
    "\n",
    "# Check if the age is between 13 and 19\n",
    "if 13 <= age <= 19:\n",
    "    print(\"You are a teenager!\")\n",
    "else:\n",
    "    print(\"You are not a teenager.\")\n"
   ]
  },
  {
   "cell_type": "code",
   "execution_count": 5,
   "id": "cad1192c-59a6-4abf-baa4-e352bbd399e3",
   "metadata": {},
   "outputs": [],
   "source": [
    "# Q-3 # 18. Implement a program to determine the day of the week based on a user-provided number (1 for Monday, 2\n",
    "# for Tuesday, etc.)."
   ]
  },
  {
   "cell_type": "code",
   "execution_count": 53,
   "id": "b0b9922a-1256-48ea-a1bc-6c25bc707a03",
   "metadata": {},
   "outputs": [
    {
     "name": "stdin",
     "output_type": "stream",
     "text": [
      "enter the week number 5\n"
     ]
    },
    {
     "name": "stdout",
     "output_type": "stream",
     "text": [
      "Friday\n"
     ]
    }
   ],
   "source": [
    "week = int(input(\"enter the week number\"))\n",
    "if week == 1:\n",
    "    print(\"Monday\")\n",
    "elif week == 2:\n",
    "    print(\"Tuesday\")\n",
    "elif week == 3:\n",
    "    print(\"Wednesday\")\n",
    "elif week == 4:\n",
    "        print(\"Thursday\")\n",
    "elif week == 5:\n",
    "        print(\"Friday\")\n",
    "elif week == 6:\n",
    "        print(\"Saturday\")\n",
    "elif week == 7:\n",
    "        print(\"Sunday\")\n",
    "else:\n",
    "        print(\"Invalid input! Please enter week number between 1-7.\")\n"
   ]
  },
  {
   "cell_type": "code",
   "execution_count": 16,
   "id": "e1a9c45d-58cd-4f30-97ef-b2075e23db34",
   "metadata": {},
   "outputs": [],
   "source": [
    "# Q-4 # Create a program that determines whether a given number is positive, negative, or zero using elif\n",
    "# statements."
   ]
  },
  {
   "cell_type": "code",
   "execution_count": 18,
   "id": "6de460a2-3e48-484a-bd9b-7b2ccef1d1d7",
   "metadata": {},
   "outputs": [
    {
     "name": "stdin",
     "output_type": "stream",
     "text": [
      "enter the number  484865\n"
     ]
    },
    {
     "name": "stdout",
     "output_type": "stream",
     "text": [
      "positive\n"
     ]
    }
   ],
   "source": [
    "a = int(input(\"enter the number \"))\n",
    "if a > 0:\n",
    "    print(\"positive\")\n",
    "elif a < 0:\n",
    "    print(\"negative\")\n",
    "else:\n",
    "    print(\"zero\")"
   ]
  },
  {
   "cell_type": "code",
   "execution_count": null,
   "id": "9f3bc558-d78a-4045-bd3e-d5b8c934daac",
   "metadata": {},
   "outputs": [],
   "source": [
    "# Q-5 # Develop a program to calculate the electricity bill based on different consumption slabs using elif\n",
    "# statements."
   ]
  },
  {
   "cell_type": "code",
   "execution_count": 34,
   "id": "5f8cc12a-3251-435e-a65b-e3b03fe82adb",
   "metadata": {},
   "outputs": [
    {
     "name": "stdin",
     "output_type": "stream",
     "text": [
      "Enter the consumption  0\n"
     ]
    },
    {
     "name": "stdout",
     "output_type": "stream",
     "text": [
      "Invalid Input\n"
     ]
    }
   ],
   "source": [
    "# Rate of consumption\n",
    "slab_1 = 2.50          \n",
    "slab_2 = 3.50         \n",
    "slab_3 = 5.50   \n",
    "# Input the electricity consumption from the user\n",
    "com = int(input(\"Enter the consumption \"))\n",
    "# Calculate the bill based on consumption slabs\n",
    "if com <= 50 and com >= 100:\n",
    "    print(\"Your electricity bill is \",com*slab_1)\n",
    "elif com > 50 and com <= 200:\n",
    "    print(\"Your electricity bill is \",com*slab_2)\n",
    "elif com > 200:\n",
    "    print(\"Your electricity bill is \",com*slab_3)\n",
    "else :\n",
    "    print (\"Invalid Input\")"
   ]
  },
  {
   "cell_type": "code",
   "execution_count": null,
   "id": "19514c04-a2c7-4add-b9c2-c8ba962916d5",
   "metadata": {},
   "outputs": [],
   "source": [
    "# Q-6 # Create a program that simulates a basic ATM transaction menu."
   ]
  },
  {
   "cell_type": "code",
   "execution_count": 51,
   "id": "afa1bdda-1311-4aec-b18e-7a1cf9aa5f50",
   "metadata": {},
   "outputs": [
    {
     "name": "stdout",
     "output_type": "stream",
     "text": [
      "welcome to ATM\n",
      "1. balance enquiry\n",
      "2. withdraw money\n",
      "3. Deposit money\n",
      "4. exit\n"
     ]
    },
    {
     "name": "stdin",
     "output_type": "stream",
     "text": [
      "enter the choise : 4\n"
     ]
    },
    {
     "name": "stdout",
     "output_type": "stream",
     "text": [
      "Thank you for using the ATM. Goodbye!\n"
     ]
    }
   ],
   "source": [
    "# Atm menu\n",
    "print(\"welcome to ATM\")\n",
    "print(\"1. balance enquiry\")\n",
    "print(\"2. withdraw money\")\n",
    "print(\"3. Deposit money\")\n",
    "print(\"4. exit\")\n",
    "dep = 1000\n",
    "# User input \n",
    "choise  = input((\"enter the choise :\"))\n",
    "if choise == '1':\n",
    "    print(\"your balance is \",dep)\n",
    "elif choise == '2':\n",
    "    print(\"enter the amount to withdraw\")\n",
    "elif choise == '3':\n",
    "    print(input(\"enter the amount to deposit :-\"))\n",
    "elif choise == '4':\n",
    "    print(\"Thank you for using the ATM. Goodbye!\")\n",
    "else:\n",
    "    print(\"invalid choise\")"
   ]
  },
  {
   "cell_type": "code",
   "execution_count": null,
   "id": "0ea9f49a-e15a-4325-ae54-8aa51d28b4b1",
   "metadata": {},
   "outputs": [],
   "source": [
    "# Q-7 # Write a Python program to calculate the grade based on a student's score.."
   ]
  },
  {
   "cell_type": "code",
   "execution_count": 54,
   "id": "8ccb278a-7710-48e0-bce8-5f2f653c118a",
   "metadata": {},
   "outputs": [
    {
     "name": "stdin",
     "output_type": "stream",
     "text": [
      "enter the grade : 85\n"
     ]
    },
    {
     "name": "stdout",
     "output_type": "stream",
     "text": [
      "B\n"
     ]
    }
   ],
   "source": [
    "grade = int(input(\"enter the grade :\"))\n",
    "if grade >=90:\n",
    "    print(\"A\")\n",
    "elif grade >=80:\n",
    "    print(\"B\")\n",
    "elif grade >=70:\n",
    "    print(\"C\")\n",
    "elif grade >= 60:\n",
    "    print(\"D\")\n",
    "elif grade >= 50:\n",
    "    print(\"E\")\n",
    "else:\n",
    "    print(\"Fail\")\n"
   ]
  },
  {
   "cell_type": "code",
   "execution_count": null,
   "id": "1ac19fb0-0c7c-4431-b7bd-42186cc61a6d",
   "metadata": {},
   "outputs": [],
   "source": [
    "# Q -8 # Implement a program to determine the type of a triangle based on its angles."
   ]
  },
  {
   "cell_type": "code",
   "execution_count": 55,
   "id": "e4c3d690-6eb3-488b-ba09-3d1f500744fc",
   "metadata": {},
   "outputs": [
    {
     "name": "stdin",
     "output_type": "stream",
     "text": [
      "Enter the first angle:  60\n",
      "Enter the second angle:  60\n",
      "Enter the third angle:  60\n"
     ]
    },
    {
     "name": "stdout",
     "output_type": "stream",
     "text": [
      "Equilateral triangle\n"
     ]
    }
   ],
   "source": [
    "# Input the angles of the triangle from the user\n",
    "angle1 = int(input(\"Enter the first angle: \"))\n",
    "angle2 = int(input(\"Enter the second angle: \"))\n",
    "angle3 = int(input(\"Enter the third angle: \"))\n",
    "# Check if the angles form a triangle\n",
    "if angle1 + angle2 + angle3 == 180:\n",
    "    # Check if the angles form a right triangle\n",
    "    if angle1 == angle2 and angle2 == angle3:\n",
    "        print(\"Equilateral triangle\")"
   ]
  },
  {
   "cell_type": "code",
   "execution_count": null,
   "id": "fd7561cb-a613-40e4-918c-b57188f9f272",
   "metadata": {},
   "outputs": [],
   "source": [
    "# Q-9 # Create a program that checks if a year is a leap year or not."
   ]
  },
  {
   "cell_type": "code",
   "execution_count": 56,
   "id": "3dbb6055-5f30-40d8-855b-baaa7cf86e2a",
   "metadata": {},
   "outputs": [
    {
     "name": "stdin",
     "output_type": "stream",
     "text": [
      "Enter a year:  2000\n"
     ]
    },
    {
     "name": "stdout",
     "output_type": "stream",
     "text": [
      "2000 is a leap year.\n"
     ]
    }
   ],
   "source": [
    "# Input the year from the user\n",
    "year = int(input(\"Enter a year: \"))\n",
    "\n",
    "# Check if it's a leap year\n",
    "if (year % 4 == 0 and year % 100 != 0) or (year % 400 == 0):\n",
    "    print(f\"{year} is a leap year.\")\n",
    "else:\n",
    "    print(f\"{year} is not a leap year.\")\n"
   ]
  },
  {
   "cell_type": "code",
   "execution_count": null,
   "id": "ac9b879d-6421-45db-a9b0-8d4393b354fd",
   "metadata": {},
   "outputs": [],
   "source": [
    "# Q-10 # Create a program that simulates a basic calculator for addition, subtraction, multiplication, and division.\n"
   ]
  },
  {
   "cell_type": "code",
   "execution_count": 69,
   "id": "75fecea6-9483-4ad3-845c-9563a6aa3455",
   "metadata": {},
   "outputs": [
    {
     "name": "stdin",
     "output_type": "stream",
     "text": [
      "Enter the operator (+, -, *, /):  *\n",
      "Enter the first operand:  45\n",
      "Enter the second operand:  45\n"
     ]
    },
    {
     "name": "stdout",
     "output_type": "stream",
     "text": [
      "2025.0\n"
     ]
    }
   ],
   "source": [
    "# Input the operator from the user\n",
    "operator = input(\"Enter the operator (+, -, *, /): \")\n",
    "# Input the operands from the user\n",
    "operand1 = float(input(\"Enter the first operand: \"))\n",
    "operand2 = float(input(\"Enter the second operand: \"))\n",
    "# Perform the calculation based on the operator\n",
    "if operator == \"+\":\n",
    "    result = operand1 + operand2\n",
    "    print(result)\n",
    "elif operator == \"-\":\n",
    "    result = operand1 - operand2\n",
    "    print(result)\n",
    "elif operator == \"*\":\n",
    "    result = operand1 * operand2\n",
    "    print(result)\n",
    "elif operator == \"/\":\n",
    "    result = operand1 / operand2\n",
    "    print(result)\n",
    "else:\n",
    "    print(\"Invalid operator\")"
   ]
  }
 ],
 "metadata": {
  "kernelspec": {
   "display_name": "Python 3 (ipykernel)",
   "language": "python",
   "name": "python3"
  },
  "language_info": {
   "codemirror_mode": {
    "name": "ipython",
    "version": 3
   },
   "file_extension": ".py",
   "mimetype": "text/x-python",
   "name": "python",
   "nbconvert_exporter": "python",
   "pygments_lexer": "ipython3",
   "version": "3.10.8"
  }
 },
 "nbformat": 4,
 "nbformat_minor": 5
}
